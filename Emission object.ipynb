{
 "cells": [
  {
   "cell_type": "markdown",
   "metadata": {},
   "source": [
    "# (6) Understanding CPD Emission"
   ]
  },
  {
   "cell_type": "markdown",
   "metadata": {},
   "source": [
    "At this point, we've developed the code far enough to see the residual emission that might be associated with any circumplanetary disk (CPD) in the SR 4 disk gap.  After this part, we will develop the code that statistically vets those residuals.  But first, it would be helpful to get a better understanding of what we might actually expect from a CPD based on some theoretical models.  \n",
    "\n",
    "So far, you've breezed through most of the coding exercises as I've set them up.  But here I'm going to give you some more \"license\" to explore on your own.  Please read through [this article](https://ui.adsabs.harvard.edu/abs/2018MNRAS.479.1850Z/abstract) on simple CPD emission models at mm/radio wavelengths.  The goal of this part is to write some code that follows the methodology laid out in Section 2, to the point where you can reproduce Figures 1 and 2.  This will give us the infrastructure to compare what we can extract from the data to a theoretical basis at the end of the summer, and it will also give you a better idea about typical mm-wavelength emission properties of CPDs that will guide us in developing the statistical vetting approach in the subsequent parts of the project."
   ]
  },
  {
   "cell_type": "code",
   "execution_count": 40,
   "metadata": {},
   "outputs": [
    {
     "name": "stderr",
     "output_type": "stream",
     "text": [
      "C:\\Users\\William\\anaconda3\\lib\\site-packages\\ipykernel_launcher.py:62: RuntimeWarning: divide by zero encountered in log10\n",
      "C:\\Users\\William\\anaconda3\\lib\\site-packages\\ipykernel_launcher.py:63: RuntimeWarning: divide by zero encountered in log10\n"
     ]
    },
    {
     "data": {
      "image/png": "[encoded data removed]",
      "text/plain": [
       "<Figure size 432x288 with 2 Axes>"
      ]
     },
     "metadata": {
      "needs_background": "light"
     },
     "output_type": "display_data"
    },
    {
     "data": {
      "image/png": "[encoded data removed]",
      "text/plain": [
       "<Figure size 432x288 with 2 Axes>"
      ]
     },
     "metadata": {
      "needs_background": "light"
     },
     "output_type": "display_data"
    }
   ],
   "source": [
    "#your code here\n",
    "import os, sys, time           \n",
    "import numpy as np             \n",
    "import matplotlib.pyplot as plt\n",
    "%matplotlib inline               \n",
    "import math\n",
    "\n",
    "from frank.radial_fitters import FrankFitter\n",
    "from frank.geometry import FixedGeometry\n",
    "from frank.make_figs import use_frank_plotting_style, make_quick_fig\n",
    "from frank.io import save_fit\n",
    "\n",
    "\n",
    "def emission_simulator(R_in, R_out, R_p, M, M_dot, alpha, lambdar):\n",
    "    R=np.linspace(R_in, R_out, 10**4)\n",
    "    G=6.67*10**(-11)\n",
    "    o_b=5.67*10**(-8)\n",
    "    mu=1.0\n",
    "    Rg=8.31\n",
    "    kappamm=0.034*(0.87/lambdar)\n",
    "    kappar=10\n",
    "    TISM=10**4\n",
    "    ###surface density###\n",
    "    sigmatrue=np.empty(len(R))\n",
    "    for i in range(len(R)):\n",
    "        Tirrquart=(G*M*M_dot/(2*R_p*o_b*40*math.pi*R[i]**2))\n",
    "        Teffquart=3*G*M*M_dot/(8*R[i]**3*math.pi)*(1-(R_in/R[i])**0.5)\n",
    "        \n",
    "        Textquart=TISM**4+Teffquart\n",
    "        Text=Textquart**(0.25)\n",
    "        sigma1=2**(1.4)/3**(1.2)*(1-(R_in/R[i])**0.5)**(0.6)*(mu/Rg)**(0.8)*(o_b*G*M*M_dot**3/(alpha**4*math.pi**3*kappar*R[i]**3))\n",
    "        sigma2=M_dot*mu*np.sqrt(G*M/R[i]**3)/(3*math.pi*alpha*Rg*Text)\n",
    "        sigmalist=np.array([sigma1,sigma2])\n",
    "        sigmatrue[i]=np.amin(sigmalist)                                                                                                                                       \n",
    "    ###Brightness Temperature                                                                        \n",
    "    Tb=np.empty(len(R))\n",
    "    tau=np.empty(len(R))                                                                                                                                                \n",
    "    for i in range(len(R)):\n",
    "        Tirrquart=(G*M*M_dot/(2*R_p*o_b*40*math.pi*R[i]**2))\n",
    "        Teffquart=3*G*M*M_dot/(8*R[i]**3*math.pi)*(1-(R_in/R[i])**0.5)\n",
    "        \n",
    "        Textquart=TISM**4+Teffquart\n",
    "        Text=Textquart**(0.25) \n",
    "        Tcquart=(9*G*M*M_dot*sigmatrue[i]*kappar/(128*R**3*o_b*math.pi))*(1-(R_in/R[i])**0.5)+Textquart\n",
    "        tau[i]=0.5*sigmatrue[i]*kappamm\n",
    "        if tau[i] < 0.5: \n",
    "            Tb[i]=2*(Tcquart[i]**0.25)*tau[i]\n",
    "        else:\n",
    "            Tb[i]=((3/8)*Teffquart*(kappar/kappamm)+Textquart)**0.25\n",
    "    class my_class:\n",
    "        def __init__(self,T,r,sigma):\n",
    "            self.T=T\n",
    "            self.r=r        \n",
    "            self.sigma=sigma\n",
    "    emissionobject=my_class(Tb, R, sigmatrue)\n",
    "                                                                             \n",
    "    fig, (ax1, ax2)= plt.subplots(1,2)\n",
    "    ax1.plot(R,Tb)\n",
    "    ax2.plot(R,sigmatrue)\n",
    "    \n",
    "    fig, (ax3, ax4)= plt.subplots(1,2)\n",
    "    ax3.plot(np.log10(R),np.log10(Tb))\n",
    "    \n",
    "    ax4.plot(np.log10(R),np.log10(sigmatrue)) \n",
    "                                                                           \n",
    "    return emissionobject\n",
    "                                                                             \n",
    "    \n",
    "                                                                        \n",
    "D=emission_simulator(0.001, 0.1, 0.0001, 10**, 10, 0.01, 0.87)\n",
    "                                                                             \n",
    "\n",
    "                                                                             \n",
    "   \n",
    "        \n",
    "                                                                             \n",
    "                                                                            \n",
    "    \n",
    "                                                                             \n",
    "    \n",
    "                                        \n",
    "    \n",
    "\n",
    "\n",
    "\n",
    "\n",
    "\n"
   ]
  },
  {
   "cell_type": "code",
   "execution_count": 21,
   "metadata": {},
   "outputs": [
    {
     "ename": "TypeError",
     "evalue": "unsupported operand type(s) for ** or pow(): 'list' and 'float'",
     "output_type": "error",
     "traceback": [
      "\u001b[1;31m---------------------------------------------------------------------------\u001b[0m",
      "\u001b[1;31mTypeError\u001b[0m                                 Traceback (most recent call last)",
      "\u001b[1;32m<ipython-input-21-e50b43b35d8e>\u001b[0m in \u001b[0;36m<module>\u001b[1;34m\u001b[0m\n\u001b[1;32m----> 1\u001b[1;33m \u001b[0mD\u001b[0m\u001b[1;33m=\u001b[0m\u001b[0memission_simulator\u001b[0m\u001b[1;33m(\u001b[0m\u001b[1;36m0.001\u001b[0m\u001b[1;33m,\u001b[0m \u001b[1;36m0.01\u001b[0m\u001b[1;33m,\u001b[0m \u001b[1;36m1\u001b[0m\u001b[1;33m,\u001b[0m \u001b[1;36m1\u001b[0m\u001b[1;33m,\u001b[0m \u001b[1;36m10\u001b[0m\u001b[1;33m**\u001b[0m\u001b[1;33m(\u001b[0m\u001b[1;33m-\u001b[0m\u001b[1;36m5\u001b[0m\u001b[1;33m)\u001b[0m\u001b[1;33m,\u001b[0m \u001b[1;36m0.01\u001b[0m\u001b[1;33m,\u001b[0m \u001b[1;36m0.87\u001b[0m\u001b[1;33m)\u001b[0m\u001b[1;33m\u001b[0m\u001b[1;33m\u001b[0m\u001b[0m\n\u001b[0m",
      "\u001b[1;32m<ipython-input-20-ca3c02903cfc>\u001b[0m in \u001b[0;36memission_simulator\u001b[1;34m(R_in, R_out, R_p, M, M_dot, alpha, lambdar)\u001b[0m\n\u001b[0;32m     29\u001b[0m         \u001b[0mTextquart\u001b[0m\u001b[1;33m=\u001b[0m\u001b[0mTISM\u001b[0m\u001b[1;33m**\u001b[0m\u001b[1;36m4\u001b[0m\u001b[1;33m+\u001b[0m\u001b[0mTeffquart\u001b[0m\u001b[1;33m\u001b[0m\u001b[1;33m\u001b[0m\u001b[0m\n\u001b[0;32m     30\u001b[0m         \u001b[0mText\u001b[0m\u001b[1;33m=\u001b[0m\u001b[0mTextquart\u001b[0m\u001b[1;33m**\u001b[0m\u001b[1;33m(\u001b[0m\u001b[1;36m0.25\u001b[0m\u001b[1;33m)\u001b[0m\u001b[1;33m\u001b[0m\u001b[1;33m\u001b[0m\u001b[0m\n\u001b[1;32m---> 31\u001b[1;33m         \u001b[0msigma1\u001b[0m\u001b[1;33m=\u001b[0m\u001b[1;36m2\u001b[0m\u001b[1;33m**\u001b[0m\u001b[1;33m(\u001b[0m\u001b[1;36m7\u001b[0m\u001b[1;33m/\u001b[0m\u001b[1;36m5\u001b[0m\u001b[1;33m)\u001b[0m\u001b[1;33m/\u001b[0m\u001b[1;36m3\u001b[0m\u001b[1;33m**\u001b[0m\u001b[1;33m(\u001b[0m\u001b[1;36m6\u001b[0m\u001b[1;33m/\u001b[0m\u001b[1;36m5\u001b[0m\u001b[1;33m)\u001b[0m\u001b[1;33m*\u001b[0m\u001b[1;33m[\u001b[0m\u001b[1;36m1\u001b[0m\u001b[1;33m-\u001b[0m\u001b[1;33m(\u001b[0m\u001b[0mR_in\u001b[0m\u001b[1;33m/\u001b[0m\u001b[0mR\u001b[0m\u001b[1;33m[\u001b[0m\u001b[0mi\u001b[0m\u001b[1;33m]\u001b[0m\u001b[1;33m)\u001b[0m\u001b[1;33m**\u001b[0m\u001b[1;36m0.5\u001b[0m\u001b[1;33m]\u001b[0m\u001b[1;33m**\u001b[0m\u001b[1;33m(\u001b[0m\u001b[1;36m3\u001b[0m\u001b[1;33m/\u001b[0m\u001b[1;36m5\u001b[0m\u001b[1;33m)\u001b[0m\u001b[1;33m*\u001b[0m\u001b[1;33m(\u001b[0m\u001b[0mmu\u001b[0m\u001b[1;33m/\u001b[0m\u001b[0mRg\u001b[0m\u001b[1;33m)\u001b[0m\u001b[1;33m**\u001b[0m\u001b[1;33m(\u001b[0m\u001b[1;36m4\u001b[0m\u001b[1;33m/\u001b[0m\u001b[1;36m5\u001b[0m\u001b[1;33m)\u001b[0m\u001b[1;33m*\u001b[0m\u001b[1;33m(\u001b[0m\u001b[0mo_b\u001b[0m\u001b[1;33m*\u001b[0m\u001b[0mG\u001b[0m\u001b[1;33m*\u001b[0m\u001b[0mM\u001b[0m\u001b[1;33m*\u001b[0m\u001b[0mM_dot\u001b[0m\u001b[1;33m**\u001b[0m\u001b[1;36m3\u001b[0m\u001b[1;33m/\u001b[0m\u001b[1;33m(\u001b[0m\u001b[0malpha\u001b[0m\u001b[1;33m**\u001b[0m\u001b[1;36m4\u001b[0m\u001b[1;33m*\u001b[0m\u001b[0mmath\u001b[0m\u001b[1;33m.\u001b[0m\u001b[0mpi\u001b[0m\u001b[1;33m**\u001b[0m\u001b[1;36m3\u001b[0m\u001b[1;33m*\u001b[0m\u001b[0mkappar\u001b[0m\u001b[1;33m*\u001b[0m\u001b[0mR\u001b[0m\u001b[1;33m[\u001b[0m\u001b[0mi\u001b[0m\u001b[1;33m]\u001b[0m\u001b[1;33m**\u001b[0m\u001b[1;36m3\u001b[0m\u001b[1;33m)\u001b[0m\u001b[1;33m)\u001b[0m\u001b[1;33m\u001b[0m\u001b[1;33m\u001b[0m\u001b[0m\n\u001b[0m\u001b[0;32m     32\u001b[0m         \u001b[0msigma2\u001b[0m\u001b[1;33m=\u001b[0m\u001b[0mM_dot\u001b[0m\u001b[1;33m*\u001b[0m\u001b[0mmu\u001b[0m\u001b[1;33m*\u001b[0m\u001b[0mnp\u001b[0m\u001b[1;33m.\u001b[0m\u001b[0msqrt\u001b[0m\u001b[1;33m(\u001b[0m\u001b[0mG\u001b[0m\u001b[1;33m*\u001b[0m\u001b[0mM\u001b[0m\u001b[1;33m/\u001b[0m\u001b[0mR\u001b[0m\u001b[1;33m[\u001b[0m\u001b[0mi\u001b[0m\u001b[1;33m]\u001b[0m\u001b[1;33m**\u001b[0m\u001b[1;36m3\u001b[0m\u001b[1;33m)\u001b[0m\u001b[1;33m/\u001b[0m\u001b[1;33m(\u001b[0m\u001b[1;36m3\u001b[0m\u001b[1;33m*\u001b[0m\u001b[0mmath\u001b[0m\u001b[1;33m.\u001b[0m\u001b[0mpi\u001b[0m\u001b[1;33m*\u001b[0m\u001b[0malpha\u001b[0m\u001b[1;33m*\u001b[0m\u001b[0mRg\u001b[0m\u001b[1;33m*\u001b[0m\u001b[0mText\u001b[0m\u001b[1;33m)\u001b[0m\u001b[1;33m\u001b[0m\u001b[1;33m\u001b[0m\u001b[0m\n\u001b[0;32m     33\u001b[0m         \u001b[0msigmalist\u001b[0m\u001b[1;33m=\u001b[0m\u001b[0mnp\u001b[0m\u001b[1;33m.\u001b[0m\u001b[0marray\u001b[0m\u001b[1;33m(\u001b[0m\u001b[1;33m[\u001b[0m\u001b[0msigma1\u001b[0m\u001b[1;33m,\u001b[0m\u001b[0msigma2\u001b[0m\u001b[1;33m]\u001b[0m\u001b[1;33m)\u001b[0m\u001b[1;33m\u001b[0m\u001b[1;33m\u001b[0m\u001b[0m\n",
      "\u001b[1;31mTypeError\u001b[0m: unsupported operand type(s) for ** or pow(): 'list' and 'float'"
     ]
    }
   ],
   "source": []
  },
  {
   "cell_type": "code",
   "execution_count": 25,
   "metadata": {},
   "outputs": [
    {
     "name": "stdout",
     "output_type": "stream",
     "text": [
      "[0.         0.09519978 0.19039955 0.28559933 0.38079911 0.47599889\n",
      " 0.57119866 0.66639844 0.76159822 0.856798   0.95199777 1.04719755\n",
      " 1.14239733 1.23759711 1.33279688 1.42799666 1.52319644 1.61839622\n",
      " 1.71359599 1.80879577 1.90399555 1.99919533 2.0943951  2.18959488\n",
      " 2.28479466 2.37999443 2.47519421 2.57039399 2.66559377 2.76079354\n",
      " 2.85599332 2.9511931  3.04639288 3.14159265 3.23679243 3.33199221\n",
      " 3.42719199 3.52239176 3.61759154 3.71279132 3.8079911  3.90319087\n",
      " 3.99839065 4.09359043 4.1887902  4.28398998 4.37918976 4.47438954\n",
      " 4.56958931 4.66478909 4.75998887 4.85518865 4.95038842 5.0455882\n",
      " 5.14078798 5.23598776 5.33118753 5.42638731 5.52158709 5.61678687\n",
      " 5.71198664 5.80718642 5.9023862  5.99758598 6.09278575 6.18798553\n",
      " 6.28318531 6.37838508 6.47358486 6.56878464 6.66398442 6.75918419\n",
      " 6.85438397 6.94958375 7.04478353 7.1399833  7.23518308 7.33038286\n",
      " 7.42558264 7.52078241 7.61598219 7.71118197 7.80638175 7.90158152\n",
      " 7.9967813  8.09198108 8.18718085 8.28238063 8.37758041 8.47278019\n",
      " 8.56797996 8.66317974 8.75837952 8.8535793  8.94877907 9.04397885\n",
      " 9.13917863 9.23437841 9.32957818 9.42477796]\n",
      "8.472780186954292\n",
      "[0.00000000e+00 1.52177724e-05 1.72169440e-04 7.11664782e-04\n",
      " 1.94787486e-03 4.25349668e-03 8.05156789e-03 1.38100173e-02\n",
      " 2.20376884e-02 3.32812681e-02 4.81228216e-02 6.71777542e-02\n",
      " 9.10930921e-02 1.20546003e-01 1.56242510e-01 1.98916354e-01\n",
      " 2.49327982e-01 3.08263644e-01 3.76534566e-01 4.54976208e-01\n",
      " 5.44447575e-01 6.45830594e-01 7.60029529e-01 8.87970441e-01\n",
      " 1.03060069e+00 1.18888847e+00 1.36382234e+00 1.55641088e+00\n",
      " 1.76768222e+00 1.99868372e+00 2.25048164e+00 2.52416076e+00\n",
      " 2.82082411e+00 3.14159265e+00 3.48760501e+00 3.86001719e+00\n",
      " 4.26000232e+00 4.68875043e+00 5.14746819e+00 5.63737867e+00\n",
      " 6.15972116e+00 6.71575094e+00 7.30673909e+00 7.93397226e+00\n",
      " 8.59875254e+00 9.30239724e+00 1.00462387e+01 1.08316243e+01\n",
      " 1.16599158e+01 1.25324899e+01 1.34507375e+01 1.44160639e+01\n",
      " 1.54298884e+01 1.64936444e+01 1.76087790e+01 1.87767531e+01\n",
      " 1.99990413e+01 2.12771315e+01 2.26125250e+01 2.40067364e+01\n",
      " 2.54612933e+01 2.69777363e+01 2.85576191e+01 3.02025079e+01\n",
      " 3.19139817e+01 3.36936322e+01 3.55430635e+01 3.74638920e+01\n",
      " 3.94577464e+01 4.15262678e+01 4.36711092e+01 4.58939358e+01\n",
      " 4.81964245e+01 5.05802642e+01 5.30471556e+01 5.55988111e+01\n",
      " 5.82369546e+01 6.09633215e+01 6.37796589e+01 6.66877251e+01\n",
      " 6.96892896e+01 7.27861334e+01 7.59800485e+01 7.92728380e+01\n",
      " 8.26663161e+01 8.61623079e+01 8.97626494e+01 9.34691875e+01\n",
      " 9.72837797e+01 1.01208294e+02 1.05244611e+02 1.09394618e+02\n",
      " 1.13660216e+02 1.18043317e+02 1.22545839e+02 1.27169716e+02\n",
      " 1.31916888e+02 1.36789308e+02 1.41788937e+02 1.46917749e+02]\n"
     ]
    }
   ],
   "source": [
    "l=np.linspace(0,3,100)\n",
    "print(math.pi*l)\n",
    "\n",
    "print(math.pi*l[89])\n",
    "p=l**3.5\n",
    "print(math.pi*p)"
   ]
  },
  {
   "cell_type": "code",
   "execution_count": null,
   "metadata": {},
   "outputs": [],
   "source": []
  }
 ],
 "metadata": {
  "kernelspec": {
   "display_name": "Python 3",
   "language": "python",
   "name": "python3"
  },
  "language_info": {
   "codemirror_mode": {
    "name": "ipython",
    "version": 3
   },
   "file_extension": ".py",
   "mimetype": "text/x-python",
   "name": "python",
   "nbconvert_exporter": "python",
   "pygments_lexer": "ipython3",
   "version": "3.7.6"
  }
 },
 "nbformat": 4,
 "nbformat_minor": 2
}
