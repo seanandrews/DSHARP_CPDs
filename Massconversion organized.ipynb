{
 "cells": [
  {
   "cell_type": "code",
   "execution_count": 29,
   "metadata": {},
   "outputs": [],
   "source": [
    "import os, sys, time           \n",
    "import numpy as np             \n",
    "import matplotlib.pyplot as plt\n",
    "%matplotlib inline               \n",
    "import math\n",
    "\n",
    "# input parameters\n",
    "\n",
    "def massrateproduct(alpha):\n",
    "    R_in = 1.0    # inner edge of CPD in Rjup units\n",
    "    R_out = 1.85  # outer edge of CPD in AU\n",
    "    R_p = 1.0     # planet radius in Rjup units\n",
    "    M_p =1 # planet mass in Mjup\n",
    "    Mdot=np.logspace(-8,-1, 1000)# planetary accretion rate in Mjup / yr\n",
    "    # turbulence coefficient (dimension-less)\n",
    "    wl = 0.85     # wavelength in mm\n",
    "    dpc = 140.    # distance in pc\n",
    "\n",
    "\n",
    "    # constants (cgs units)\n",
    "    G = 6.67e-8        # cm**2 / g / s**2\n",
    "    kB = 1.3801e-16    # erg / K\n",
    "    sigSB = 5.67e-5    # erg / cm**2 / s / K**4\n",
    "    mu = 2.4           # 1 / mol\n",
    "    Rg = 8.3145e7      # erg / K / mol\n",
    "    AU = 1.496e13      # cm\n",
    "    Msun = 1.989e33    # g\n",
    "    Mjup = 1.898e30    # g\n",
    "    Rjup = 6.9911e9    # cm\n",
    "    yr = 3.154e7       # s\n",
    "    iflux=np.zeros(len(Mdot))\n",
    "    # radius grid\n",
    "    for i in range(len(Mdot)):\n",
    "        Rau = np.logspace(np.log10(R_in * Rjup / AU), 0.5, 1000)\n",
    "        R = Rau * AU\n",
    "\n",
    "        # opacities\n",
    "        kappa_mm = 0.034 * (0.87 / wl)\n",
    "        kappa_r = 10.                      \n",
    "\n",
    "        # Eq 1: effective temperature: Teff**4 (K**4)\n",
    "        Teff4 = 3 * G * (M_p * Mjup) * (Mdot[i] * Mjup / yr) * (1 - (R[0] / R)**0.5) / (8 * np.pi * sigSB * R**3)\n",
    "        Teff4 = np.clip(Teff4, 5**4, 10000**4)\n",
    "\n",
    "        # Eq 3: irradiation temperature\n",
    "        Lirr = G * (M_p * Mjup) * (Mdot[i] * Mjup / yr) / (2 * R_p * Rjup)\n",
    "        Tirr4 = Lirr / (40 * np.pi * R**2 * sigSB)\n",
    "\n",
    "        # external temperature\n",
    "        Tism = 10.\n",
    "        Text4 = Tirr4 + Tism**4\n",
    "\n",
    "        # Eq 6: sigma\n",
    "        sig_eq6 = (2**1.4 / 3**1.2) * (sigSB * G * (M_p * Mjup) * (Mdot[i] * Mjup / yr)**3 / \\\n",
    "                  (alpha**4 * np.pi**3 * kappa_r * R**3))**0.2 * (mu / Rg)**0.8 *(1 - (R[0] / R)**0.5)**0.6\n",
    "\n",
    "        # Eq 7: sigma\n",
    "        omega = np.sqrt(G * (M_p * Mjup) / R**3)\n",
    "        sig_eq7 = (Mdot[i] * Mjup / yr) * mu * omega / (3 * np.pi * alpha * Rg * Text4**0.25)\n",
    "\n",
    "        # sigma (note that Fig 1 is for viscous heating models, which means Eq 6 for sigma [see caption])\n",
    "        #sigma = np.minimum(sig_eq6, sig_eq7)\n",
    "        sigma = sig_eq6\n",
    "\n",
    "        # Eq 4: midplane temperature: Tc**4\n",
    "        Tc4 = 9 * G * (M_p * Mjup) * (Mdot[i] * Mjup / yr) * sigma * kappa_r * (1 - (R[0] / R)**0.5) / \\\n",
    "              (128 * np.pi * sigSB * R**3) + Text4\n",
    "\n",
    "\n",
    "        # mm optical depths\n",
    "        tau_mm = kappa_mm * sigma / 2\n",
    "\n",
    "        # Eq 8: brightness temperatures\n",
    "        Tb = ((3 * kappa_r / (8 * kappa_mm)) * Teff4 + Text4)**0.25\n",
    "        Tb[tau_mm < 0.5] = 2 * Tc4[tau_mm < 0.5]**0.25 * tau_mm[tau_mm < 0.5]\n",
    "        Inu = 1e23 * 2 * kB * Tb / (wl * 0.1)**2 / (180 * 3600 / np.pi)**2\n",
    "\n",
    "\n",
    "\n",
    "        iflux[i] = (np.trapz(2 * np.pi *R * Inu, R))/(math.pi*R[-1]**2)\n",
    "        \n",
    "    return iflux, M_p*Mdot\n",
    "\n",
    "\n",
    "###function calculates the average flux over the disk based on an alpha value input. \n",
    "##Returns a list of flux values and a list of mass-accretion rate products####"
   ]
  },
  {
   "cell_type": "code",
   "execution_count": 30,
   "metadata": {},
   "outputs": [
    {
     "data": {
      "text/plain": [
       "Text(0, 0.5, 'Average CPD flux (Jy/$arsec^2$)')"
      ]
     },
     "execution_count": 30,
     "metadata": {},
     "output_type": "execute_result"
    },
    {
     "data": {
      "image/png": "[encoded data removed]",
      "text/plain": [
       "<Figure size 432x288 with 1 Axes>"
      ]
     },
     "metadata": {
      "needs_background": "light"
     },
     "output_type": "display_data"
    }
   ],
   "source": [
    "z=massrateproduct(0.001)\n",
    "\n",
    "\n",
    "###Plot of average fluxes against Mass-Accretion Products###\n",
    "fig, axs = plt.subplots()\n",
    "axs.plot(z[1], z[0])\n",
    "axs.grid()\n",
    "axs.set_xlabel('Mass-Accretion Product, ($M^2_{J}/yr$)')\n",
    "axs.set_ylabel('Average CPD flux (Jy/$arsec^2$)')\n"
   ]
  },
  {
   "cell_type": "code",
   "execution_count": null,
   "metadata": {},
   "outputs": [],
   "source": []
  }
 ],
 "metadata": {
  "kernelspec": {
   "display_name": "Python 3",
   "language": "python",
   "name": "python3"
  },
  "language_info": {
   "codemirror_mode": {
    "name": "ipython",
    "version": 3
   },
   "file_extension": ".py",
   "mimetype": "text/x-python",
   "name": "python",
   "nbconvert_exporter": "python",
   "pygments_lexer": "ipython3",
   "version": "3.8.3"
  }
 },
 "nbformat": 4,
 "nbformat_minor": 4
}
