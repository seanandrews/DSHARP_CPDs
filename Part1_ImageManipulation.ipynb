{
 "cells": [
  {
   "cell_type": "markdown",
   "metadata": {},
   "source": [
    "# (1): Image Manipulation"
   ]
  },
  {
   "cell_type": "markdown",
   "metadata": {},
   "source": [
    "This project hinges on our ability to model and remove the bright emission from the circumstellar disk, to have a better chance at finding a faint CPD component hidden in its glare.  Such a model of that emission is itself of great interest to the community, since it will help facilitate comparisons between how this emission varies spatially among different populations of disks.\n",
    "\n",
    "To develop some intuition about *what* you will be modeling, and *how* you will be doing that, it is important to become familiar with mm/radio images of disks and their general manipulation.  This part of the project should help you learn how to load .FITS data, extract their information, and plot, manipulate, and annotate the images.  This notebook will get you started, and leaves blank cells for you to develop code to achieve various goals."
   ]
  },
  {
   "cell_type": "markdown",
   "metadata": {},
   "source": [
    "**(A): Load a .FITS file:**\n",
    "\n",
    "We will start the project with the disk around the young star GW Lup.  You can download the $\\lambda = 1.3$ mm wavelength continuum image from the DSHARP data repository, and then load the image (a 2-D array) and the header (a dictionary of information about the image) with some standard Astropy tools."
   ]
  },
  {
   "cell_type": "code",
   "execution_count": 8,
   "metadata": {},
   "outputs": [
    {
     "name": "stdout",
     "output_type": "stream",
     "text": [
      "(3000, 3000)\n"
     ]
    }
   ],
   "source": [
    "import os, sys, time           # I basically always load these in every code I write.\n",
    "import numpy as np             # Numpy is the basic numerics package in Python.\n",
    "from astropy.io import fits    # .FITS file manipulation package  \n",
    "import urllib.request          # package for fetching files off the internet\n",
    "\n",
    "# disk target name\n",
    "disk_name = 'GWLup'\n",
    "\n",
    "# set this to your project directory (or however you like)\n",
    "working_dir = '/Users/sandrews/Desktop/DSHARP_CPDs/'\n",
    "\n",
    "# if you don't already have the datafile, download it\n",
    "if not os.path.exists(working_dir+disk_name+'_continuum.fits'):\n",
    "    dsharp_url = 'https://bulk.cv.nrao.edu/almadata/lp/DSHARP/images/'+disk_name+'_continuum.fits'\n",
    "    print('Downloading .FITS image...')\n",
    "    urllib.request.urlretrieve(dsharp_url, working_dir+disk_name+'_continuum.fits')\n",
    "    print('...Download complete.')\n",
    "\n",
    "# load the .FITS file into a 2-D array (image) and header dictionary (header)\n",
    "data = fits.open(disk_name+'_continuum.fits')\n",
    "image = np.squeeze(data[0].data)\n",
    "header = data[0].header\n",
    "print(image.shape)"
   ]
  },
  {
   "cell_type": "markdown",
   "metadata": {},
   "source": [
    "**(B) Explore the Data Contents:**\n",
    "\n"
   ]
  }
 ],
 "metadata": {
  "kernelspec": {
   "display_name": "Python 3",
   "language": "python",
   "name": "python3"
  },
  "language_info": {
   "codemirror_mode": {
    "name": "ipython",
    "version": 3
   },
   "file_extension": ".py",
   "mimetype": "text/x-python",
   "name": "python",
   "nbconvert_exporter": "python",
   "pygments_lexer": "ipython3",
   "version": "3.7.1"
  }
 },
 "nbformat": 4,
 "nbformat_minor": 2
}
