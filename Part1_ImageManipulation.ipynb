{
 "cells": [
  {
   "cell_type": "markdown",
   "metadata": {},
   "source": [
    "# (1): Image Manipulation"
   ]
  },
  {
   "cell_type": "markdown",
   "metadata": {},
   "source": [
    "This project hinges on our ability to model and remove the bright emission from the circumstellar disk, to have a better chance at finding a faint CPD component hidden in its glare.  Such a model of that emission is itself of great interest to the community, since it will help facilitate comparisons between how this emission varies spatially among different populations of disks.\n",
    "\n",
    "To develop some intuition about *what* you will be modeling, and *how* you will be doing that, it is important to become familiar with mm/radio images of disks and their general manipulation.  This part of the project should help you learn how to load .FITS data, extract their information, and plot, manipulate, and annotate the images.  This notebook will get you started, and leaves blank cells for you to develop code to achieve various goals."
   ]
  },
  {
   "cell_type": "markdown",
   "metadata": {},
   "source": [
    "**(A): Load a .FITS file:**\n",
    "\n",
    "We will start the project with the disk around the young star GW Lup.  You can download the $\\lambda = 1.3$ mm wavelength continuum image from the DSHARP data repository, and then load the image (a 2-D array) and the header (a dictionary of information about the image) with some standard Astropy tools."
   ]
  },
  {
   "cell_type": "code",
   "execution_count": 9,
   "metadata": {},
   "outputs": [
    {
     "name": "stdout",
     "output_type": "stream",
     "text": [
      "SIMPLE  =                    T /Standard FITS                                   BITPIX  =                  -32 /Floating point (32 bit)                         NAXIS   =                    4                                                  NAXIS1  =                 3000                                                  NAXIS2  =                 3000                                                  NAXIS3  =                    1                                                  NAXIS4  =                    1                                                  EXTEND  =                    T                                                  BSCALE  =   1.000000000000E+00 /PHYSICAL = PIXEL*BSCALE + BZERO                 BZERO   =   0.000000000000E+00                                                  BMAJ    =   1.236248761415E-05                                                  BMIN    =   1.187190413475E-05                                                  BPA     =   5.454711914062E-01                                                  BTYPE   = 'Intensity'                                                           OBJECT  = 'GW_Lup  '                                                                                                                                            BUNIT   = 'Jy/beam '           /Brightness (pixel) unit                         EQUINOX =   2.000000000000E+03                                                  RADESYS = 'FK5     '                                                            LONPOLE =   1.800000000000E+02                                                  LATPOLE =  -3.451002105694E+01                                                  PC1_1   =   1.000000000000E+00                                                  PC2_1   =   0.000000000000E+00                                                  PC3_1   =   0.000000000000E+00                                                  PC4_1   =   0.000000000000E+00                                                  PC1_2   =   0.000000000000E+00                                                  PC2_2   =   1.000000000000E+00                                                  PC3_2   =   0.000000000000E+00                                                  PC4_2   =   0.000000000000E+00                                                  PC1_3   =   0.000000000000E+00                                                  PC2_3   =   0.000000000000E+00                                                  PC3_3   =   1.000000000000E+00                                                  PC4_3   =   0.000000000000E+00                                                  PC1_4   =   0.000000000000E+00                                                  PC2_4   =   0.000000000000E+00                                                  PC3_4   =   0.000000000000E+00                                                  PC4_4   =   1.000000000000E+00                                                  CTYPE1  = 'RA---SIN'                                                            CRVAL1  =   2.366862890833E+02                                                  CDELT1  =  -8.333333333333E-07                                                  CRPIX1  =   1.501000000000E+03                                                  CUNIT1  = 'deg     '                                                            CTYPE2  = 'DEC--SIN'                                                            CRVAL2  =  -3.451002105694E+01                                                  CDELT2  =   8.333333333333E-07                                                  CRPIX2  =   1.501000000000E+03                                                  CUNIT2  = 'deg     '                                                            CTYPE3  = 'FREQ    '                                                            CRVAL3  =   2.389841510774E+11                                                  CDELT3  =   1.783675802929E+10                                                  CRPIX3  =   1.000000000000E+00                                                  CUNIT3  = 'Hz      '                                                            CTYPE4  = 'STOKES  '                                                            CRVAL4  =   1.000000000000E+00                                                  CDELT4  =   1.000000000000E+00                                                  CRPIX4  =   1.000000000000E+00                                                  CUNIT4  = '        '                                                            PV2_1   =   0.000000000000E+00                                                  PV2_2   =   0.000000000000E+00                                                  RESTFRQ =   2.305380000000E+11 /Rest Frequency (Hz)                             SPECSYS = 'LSRK    '           /Spectral reference frame                        ALTRVAL =  -1.098340573842E+07 /Alternate frequency reference value             ALTRPIX =   1.000000000000E+00 /Alternate frequency reference pixel             VELREF  =                  257 /1 LSR, 2 HEL, 3 OBS, +256 Radio                 COMMENT casacore non-standard usage: 4 LSD, 5 GEO, 6 SOU, 7 GAL                 TELESCOP= 'ALMA    '                                                            OBSERVER= 'sandrews'                                                            DATE-OBS= '2017-05-14T04:26:51.408000'                                          TIMESYS = 'UTC     '                                                            OBSRA   =   2.366862890833E+02                                                  OBSDEC  =  -3.451002105694E+01                                                  OBSGEO-X=   2.225142180269E+06                                                  OBSGEO-Y=  -5.440307370349E+06                                                  OBSGEO-Z=  -2.481029851874E+06                                                  OBJECT  = 'GW_Lup  '                                                            TELESCOP= 'ALMA    '                                                            INSTRUME= 'ALMA    '                                                            DISTANCE=   0.000000000000E+00                                                  DATE    = '2018-06-03T03:06:52.474999' /Date FITS file was written              ORIGIN  = 'CASA 5.1.1-5'                                                        END                                                                                                                                                                                                                                                                                                                                                                                                                                                                                                                                                                                                                                                                                                                                                                                                                                                                                                                                                                                                                                                                                                                                                                                                                                                                                                                                                                                                                                                                                                                                                                                                                                                                                                                                                                                                                                                                                                                                                                                                                                                                                                                                                                                                                                                                                                                             \n"
     ]
    }
   ],
   "source": [
    "import os, sys, time           # I basically always load these in every code I write.\n",
    "import numpy as np             # Numpy is the basic numerics package in Python.\n",
    "from astropy.io import fits    # .FITS file manipulation package  \n",
    "import urllib.request          # package for fetching files off the internet\n",
    "\n",
    "# disk target name\n",
    "disk_name = 'GWLup'\n",
    "\n",
    "# set this to your project directory (or however you like)\n",
    "working_dir = '/Users/sandrews/Desktop/DSHARP_CPDs/'\n",
    "\n",
    "# if you don't already have the datafile, download it\n",
    "if not os.path.exists(working_dir+disk_name+'_continuum.fits'):\n",
    "    dsharp_url = 'https://bulk.cv.nrao.edu/almadata/lp/DSHARP/images/'+disk_name+'_continuum.fits'\n",
    "    print('Downloading .FITS image...')\n",
    "    urllib.request.urlretrieve(dsharp_url, working_dir+disk_name+'_continuum.fits')\n",
    "    print('...Download complete.')\n",
    "\n",
    "# load the .FITS file into a 2-D array (image) and header dictionary (header)\n",
    "data = fits.open(disk_name+'_continuum.fits')\n",
    "image = np.squeeze(data[0].data)\n",
    "header = data[0].header\n",
    "print(header)    # this shows you what is in the header"
   ]
  },
  {
   "cell_type": "markdown",
   "metadata": {},
   "source": [
    "**(B) Explore the Data Contents:**\n",
    "\n",
    "Now we can extract some basic information content about the image, primarily from the header dictionary.  First, we want to reconstruct the image coordinate frame, by calculating the RA and DEC of each pixel in the image.  Next, we extract the observing frequency of the image.  And then, we extract the parameters of the \"beam\", or point-spread function (PSF).  For mm/radio images, the PSF is an elliptical Gaussian: the header records the full-width at half-maximum (FWHM) along the major and minor axes of that ellipse, as well as the position angle (measured toward the east, starting at north) of the major axis.    "
   ]
  },
  {
   "cell_type": "code",
   "execution_count": 28,
   "metadata": {},
   "outputs": [
    {
     "name": "stdout",
     "output_type": "stream",
     "text": [
      "3000 3000 (3000, 3000)\n"
     ]
    }
   ],
   "source": [
    "# number of pixels in RA, DEC dimensions\n",
    "nx, ny = header['NAXIS1'], header['NAXIS2']\n",
    "print(nx, ny, image.shape)    # can see that these are the same as the array dimensions\n",
    "\n",
    "# coordinate frames can be reconstructed from a mapping to pixels with header variables\n",
    "# these 1-D mappings are in **degrees** units\n",
    "RA = header['CRVAL1'] + header['CDELT1'] * (np.arange(nx) - (header['CRPIX1'] - 1))\n",
    "DEC = header['CRVAL2'] + header['CDELT2'] * (np.arange(ny) - (header['CRPIX2'] - 1))\n",
    "\n",
    "# convert these to offsets from the image center, in **arcseconds** units\n",
    "RAo, DECo = 3600 * (RA - header['CRVAL1']), 3600 * (DEC - header['CRVAL2'])\n",
    "\n",
    "# shift these coordinates to account for the center of the disk (offRA, offDEC)\n",
    "offRA, offDEC = 0., 0.    # we can experiment with these\n",
    "RAo_shift, DECo_shift = RAo - offRA, DECo - offDEC\n",
    "\n",
    "# now convert these to two-dimensional arrays of RA and DEC offsets from the disk center for each pixel\n",
    "dRA, dDEC = np.meshgrid(RAo_shift, DECo_shift)\n",
    "\n",
    "\n",
    "# get the observing frequency (in Hz units)\n",
    "freq = header['CRVAL3']\n",
    "\n",
    "\n",
    "# get the beam parameters (in **arcseconds** for the FWHM, and **degrees** for the position angle)\n",
    "beam_maj, beam_min, beam_PA = 3600 * header['BMAJ'], 3600 * header['BMIN'], header['BPA']\n",
    "\n",
    "# compute the beam area (in **steradians**)\n",
    "# trust me...this is tricky, but the first part is the integral of the 2-D gaussian PSF\n",
    "beam_area = (np.pi * beam_maj * beam_min / (4 * np.log(2))) / (3600 * 180 / np.pi)**2"
   ]
  },
  {
   "cell_type": "markdown",
   "metadata": {},
   "source": [
    "**(C) Image Visualization:**\n",
    "\n",
    "Here we will make a basic plot of the image and some standard annotations, to introduce the formatting.  "
   ]
  },
  {
   "cell_type": "code",
   "execution_count": null,
   "metadata": {},
   "outputs": [],
   "source": []
  }
 ],
 "metadata": {
  "kernelspec": {
   "display_name": "Python 3",
   "language": "python",
   "name": "python3"
  },
  "language_info": {
   "codemirror_mode": {
    "name": "ipython",
    "version": 3
   },
   "file_extension": ".py",
   "mimetype": "text/x-python",
   "name": "python",
   "nbconvert_exporter": "python",
   "pygments_lexer": "ipython3",
   "version": "3.7.1"
  }
 },
 "nbformat": 4,
 "nbformat_minor": 2
}
