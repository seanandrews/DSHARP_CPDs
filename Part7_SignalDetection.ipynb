{
 "cells": [
  {
   "cell_type": "markdown",
   "metadata": {},
   "source": [
    "# (7) Signal (CPD) Search and Characterization"
   ]
  },
  {
   "cell_type": "markdown",
   "metadata": {},
   "source": [
    "In Part (6), we learned that any CPDs of interest in the SR 4 disk should be point sources (i.e., their size is $\\ll$ the resolution) and could be pretty faint, perhaps comparable to the residuals from the circumstellar disk model.  We need to develop a means of quantifying what level of emission we are able to robustly detect.  One intuitive way for doing that is to inject a fake signal into the data, perform the same fitting/post-processing analysis we used on the real observations to get a residual dataset, and then try to recover the fake signal.  \n",
    "\n",
    "For the last part, *recovery*, there is not a widely agreed-upon metric.  We'll have to develop our own approach and demonstrate that it works in practice.  Your goal in this part of the project is to establish an **automated** way to search for and quantify a point source in the SR 4 disk gap.  This machinery should (1) quantify the *significance* of any such feature (i.e., its signal-to-noise ratio, or the ratio of the peak to the \"local\" standard deviation); and (2) measure its flux; and (3) measure its position in the SR 4 disk gap (given how narrow the gap is, the radius should be just about 0.08\", but the *azimuth* is unknown a priori).  There are no right or wrong answers here: your job is to experiment and see what might work.  Start simple...if we can make it work with a straightforward search in a (r,az)-map like before, let's do that!\n",
    "\n",
    "I know this is sort of backwards, worrying about the recovery part before the injection part.  But I think it makes more sense in terms of the work that needs to be done.  The *injection* doesn't involve a lot of activity from a research perspective (its more of just a code machinery in a big loop).  I will show you how that works once your machinery is tested.  To help you develop, I've posted two example residual images online (see below) with mock CPDs already injected.  "
   ]
  },
  {
   "cell_type": "code",
   "execution_count": null,
   "metadata": {},
   "outputs": [],
   "source": [
    "# your code here"
   ]
  },
  {
   "cell_type": "markdown",
   "metadata": {},
   "source": [
    "Sometime later this week I'll point you to some different models where the mock CPDs should be much harder to find and characterize.  Your method will need to handle such cases also!"
   ]
  }
 ],
 "metadata": {
  "kernelspec": {
   "display_name": "Python 3",
   "language": "python",
   "name": "python3"
  },
  "language_info": {
   "codemirror_mode": {
    "name": "ipython",
    "version": 3
   },
   "file_extension": ".py",
   "mimetype": "text/x-python",
   "name": "python",
   "nbconvert_exporter": "python",
   "pygments_lexer": "ipython3",
   "version": "3.7.1"
  }
 },
 "nbformat": 4,
 "nbformat_minor": 2
}
