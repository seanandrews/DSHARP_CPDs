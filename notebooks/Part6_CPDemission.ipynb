{
 "cells": [
  {
   "cell_type": "markdown",
   "metadata": {},
   "source": [
    "# (6) Understanding CPD Emission"
   ]
  },
  {
   "cell_type": "markdown",
   "metadata": {},
   "source": [
    "At this point, we've developed the code far enough to see the residual emission that might be associated with any circumplanetary disk (CPD) in the SR 4 disk gap.  After this part, we will develop the code that statistically vets those residuals.  But first, it would be helpful to get a better understanding of what we might actually expect from a CPD based on some theoretical models.  \n",
    "\n",
    "So far, you've breezed through most of the coding exercises as I've set them up.  But here I'm going to give you some more \"license\" to explore on your own.  Please read through [this article](https://ui.adsabs.harvard.edu/abs/2018MNRAS.479.1850Z/abstract) on simple CPD emission models at mm/radio wavelengths.  The goal of this part is to write some code that follows the methodology laid out in Section 2, to the point where you can reproduce Figures 1 and 2.  This will give us the infrastructure to compare what we can extract from the data to a theoretical basis at the end of the summer, and it will also give you a better idea about typical mm-wavelength emission properties of CPDs that will guide us in developing the statistical vetting approach in the subsequent parts of the project."
   ]
  },
  {
   "cell_type": "code",
   "execution_count": null,
   "metadata": {},
   "outputs": [],
   "source": [
    "#your code here"
   ]
  }
 ],
 "metadata": {
  "kernelspec": {
   "display_name": "Python 3",
   "language": "python",
   "name": "python3"
  },
  "language_info": {
   "codemirror_mode": {
    "name": "ipython",
    "version": 3
   },
   "file_extension": ".py",
   "mimetype": "text/x-python",
   "name": "python",
   "nbconvert_exporter": "python",
   "pygments_lexer": "ipython3",
   "version": "3.7.1"
  }
 },
 "nbformat": 4,
 "nbformat_minor": 2
}
