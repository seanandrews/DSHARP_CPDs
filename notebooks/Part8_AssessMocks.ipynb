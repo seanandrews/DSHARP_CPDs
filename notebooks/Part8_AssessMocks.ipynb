{
 "cells": [
  {
   "cell_type": "markdown",
   "metadata": {},
   "source": [
    "# (8) Assess Mock Recoveries"
   ]
  },
  {
   "cell_type": "markdown",
   "metadata": {},
   "source": [
    "So, now we've run through an initial injection/recovery exercise, we need to assess the outcomes.  I've made these available in a simple ASCII file in the repository (if you pull from github, you should now have it): 'SR4_continuum_CPDrecoveries.txt'.  Here's how you would load its contents:"
   ]
  },
  {
   "cell_type": "code",
   "execution_count": 1,
   "metadata": {},
   "outputs": [],
   "source": [
    "import os, sys, time\n",
    "import numpy as np\n",
    "import matplotlib.pyplot as plt\n",
    "%matplotlib inline\n",
    "\n",
    "# load recoveries contents\n",
    "rfile = 'SR4_continuum_CPDrecoveries.txt'\n",
    "Fi, Fo, mdl, ri, ro, azi, azo, SNR = np.loadtxt(rfile).T\n",
    "\n",
    "\"\"\" \n",
    "Variables:\n",
    "    Fi = input CPD flux (in microJy)\n",
    "    Fo = recovered CPD flux (in microJy)\n",
    "    mdl = a model identification number\n",
    "    ri = input CPD radial location (in arcseconds)\n",
    "    ro = recovered CPD radial location (in arcseconds)\n",
    "    azi = input CPD azimuthal location (in degrees)\n",
    "    azo = recovered CPD radial location (in degrees)\n",
    "    SNR = signal-to-noise ratio for recovered signal\n",
    "\"\"\""
   ]
  },
  {
   "cell_type": "markdown",
   "metadata": {},
   "source": [
    "There are 100 models per Fi, stepping down from 250 to 100 uJy in 10 uJy steps.  Eaching injection had a fixed ri = 0.08 arcseconds, and a random azi.  I recommend starting by assessing what fraction of cases in each Fi bin did we successfully recover?  Meaning, for how many cases out of 100 did we find roughly the right Fo, ro, and azo?  You'll have to decide what tolerance in each of those parameters you think we should accept as \"successful\"...this might take some experimentation.  You might consider plotting the injected versus recovered values of each parameter also, etc. etc.  We can discuss your findings on Thursday."
   ]
  }
 ],
 "metadata": {
  "kernelspec": {
   "display_name": "Python 3",
   "language": "python",
   "name": "python3"
  },
  "language_info": {
   "codemirror_mode": {
    "name": "ipython",
    "version": 3
   },
   "file_extension": ".py",
   "mimetype": "text/x-python",
   "name": "python",
   "nbconvert_exporter": "python",
   "pygments_lexer": "ipython3",
   "version": "3.7.1"
  }
 },
 "nbformat": 4,
 "nbformat_minor": 2
}
