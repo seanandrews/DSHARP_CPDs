{
 "cells": [
  {
   "cell_type": "markdown",
   "metadata": {},
   "source": [
    "# DSHARP_CPDs: Outline of the Project"
   ]
  },
  {
   "cell_type": "markdown",
   "metadata": {},
   "source": [
    "The basic idea behind this project is to search for millimeter-wavelength continuum emission from small solid particles (\"dust\") in circum-$planetary$ disks.  These circumplanetary disks (CPDs) are formed around very young giant planets, and are the primary mechanism for feeding material from the larger circum-$stellar$ disk onto the planet.  Moreover, the material in the CPD itself may coagulate to form a mini-planetary system of small satellites around the planet: e.g., we think this happened in the case of Jupiter and its Galilean moons (Io, Ganymede, Europa, and Callisto).  So, CPDs are really a fundamental part of the planet formation process.  Knowing more about their basic properties would be extremely helpful.  The millimeter-wavelength continuum is potentially sensitive to their masses and sizes, although the connections are not so trivial (as you will find).\n",
    "\n",
    "The important technical challenges are that CPDs are expected to be (1) small, (2) faint, and (3) outshined by the local circumstellar disk material in which they are embedded.  To be frank, it is unlikely that our search will turn up a believable CPD candidate (although there are [recent claims](https://arxiv.org/abs/1906.06308) of detections in one system).  However, the subject matter is still very theoretically oriented and thereby un-tested: $any$ observational constraints (particularly upper limits) will be helpful for developing updates to [current CPD models](https://arxiv.org/abs/1708.07287).  To help mitigate the technical challenges, we will be using very deep, high-resolution observations from the ALMA telescope, obtained as part of the \"Large Program\", the Disk Substructures at High Angular Resolution Project ([DSHARP](https://bulk.cv.nrao.edu/almadata/lp/DSHARP/)).  The nature of the project will be to hunt for CPDs in the low-brightness \"gaps\" in the emission distributions from the DSHARP circumstellar disks.  To do that, we'll need to first model and then remove the circumstellar disk emission, and then test our sensitivity to faint CPD sources in the residual datasets.     \n",
    "\n",
    "Since we're doing this remotely, much of the effort will be done using these Jupyter notebooks and some supplementary python code, interfacing through [Github](https://github.com).  If you are unfamiliar with Github, it serves as basically a code back-up repository, which tracks edits to code in real time (*provided you use it*).  You can work with Github using 'git' on the command line from your machine, or you can simply use the web-based interface to upload and download files to your local computer as needed.  The important thing is to _always be posting updates_ to the files you're working on, at least once per day.  The Github repository for this project is [located here](https://github.com/seanandrews/DSHARP_CPDs).  In notebooks like this, use the markdown extensively to comment on what you're trying to do and why, so I can assess how things are going between our meetings.  As we move along, we'll also use Overleaf to document the project (this will be done using LaTeX; if you're not familiar yet, I will dig up some tutorials), with the aim of eventually converting those notes/outlines into in an article to be submitted to a journal.\n",
    "\n",
    "It is never easy to map out a project from start to finish...weird things always come up and lead to tangents or reassessments of the goals and strategies.  But I have tried to break the project up into 10 basic parts that will help guide you through things in a logical flow that helps you learn.  Perhaps each part will take ~1 week of your time on average (some much more, some perhaps much less: I'm not super concerned about the pace of progress so long as you're understanding how/why we're doing these things).  Each part is highlighted in a cell below."
   ]
  },
  {
   "cell_type": "markdown",
   "metadata": {},
   "source": [
    "**[(1) Image Manipulation](https://github.com/seanandrews/DSHARP_CPDs/blob/master/Part1_ImageManipulation.ipynb)**\n",
    "\n",
    "Reading, parsing, plotting, and manipulating 2-D images from their native .FITS formatting."
   ]
  },
  {
   "cell_type": "markdown",
   "metadata": {},
   "source": [
    "**[(2) Intensity Profiles](https://github.com/seanandrews/DSHARP_CPDs/blob/master/Part2_Profiles.ipynb)**\n",
    "\n",
    "Deprojection of the disk geometry, azimuthal averaging, and simple radial profile models."
   ]
  },
  {
   "cell_type": "markdown",
   "metadata": {},
   "source": [
    "**[(3) Overview of Interferometry](https://github.com/seanandrews/DSHARP_CPDs/blob/master/Part3_InterferometryPrimer.ipynb)**\n",
    "\n",
    "Basic Fourier transform pairs, sparse sampling, visibilities, and the imaging/deconvolution process."
   ]
  },
  {
   "cell_type": "markdown",
   "metadata": {},
   "source": [
    "**[(4) Modeling Visibilities](https://github.com/seanandrews/DSHARP_CPDs/blob/master/Part4_VisibilityFitting.ipynb)**\n",
    "\n",
    "Azimuthally-averaged visibility profiles, simplified version of the 1-D radial Fourier transform (a discretized Hankel transform), basic modeling setup."
   ]
  },
  {
   "cell_type": "markdown",
   "metadata": {},
   "source": [
    "**[(5) Model Fitting and Analysis](https://github.com/seanandrews/DSHARP_CPDs/blob/master/Part5_ModelingAnalysis.ipynb)**\n",
    "\n",
    "A fancy visibility model optimizer, analysis and post-processing, data/model comparisons."
   ]
  },
  {
   "cell_type": "markdown",
   "metadata": {},
   "source": [
    "**(6) Empirical Searches for Residual Emission (CPDs)**\n",
    "\n",
    "Develop approach to search residual datasets for faint point-like or Gaussian emission in gap features."
   ]
  },
  {
   "cell_type": "markdown",
   "metadata": {},
   "source": [
    "**(7) Synthetic CPDs**\n",
    "\n",
    "Generate synthetic CPDs from simple structure models."
   ]
  },
  {
   "cell_type": "markdown",
   "metadata": {},
   "source": [
    "**(8) Injection / Recovery Tests**\n",
    "\n",
    "Develop algorithm and statistical machinery for a rigorous vetting of potential CPD residuals."
   ]
  },
  {
   "cell_type": "markdown",
   "metadata": {},
   "source": [
    "**(9) Formal Constraints**\n",
    "\n",
    "Measurements of CPD residuals (or upper limits), unit conversions."
   ]
  },
  {
   "cell_type": "markdown",
   "metadata": {},
   "source": [
    "**(10) Interpretation**\n",
    "\n",
    "Assess the formal constraints in the context of physically relevant units and gap properties relative to more detailed hydrodynamical models."
   ]
  }
 ],
 "metadata": {
  "kernelspec": {
   "display_name": "Python 3",
   "language": "python",
   "name": "python3"
  },
  "language_info": {
   "codemirror_mode": {
    "name": "ipython",
    "version": 3
   },
   "file_extension": ".py",
   "mimetype": "text/x-python",
   "name": "python",
   "nbconvert_exporter": "python",
   "pygments_lexer": "ipython3",
   "version": "3.7.1"
  }
 },
 "nbformat": 4,
 "nbformat_minor": 2
}
